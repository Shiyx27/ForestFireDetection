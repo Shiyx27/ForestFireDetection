{
  "metadata": {
    "kernelspec": {
      "language": "python",
      "display_name": "Python 3",
      "name": "python3"
    },
    "language_info": {
      "name": "python",
      "version": "3.10.13",
      "mimetype": "text/x-python",
      "codemirror_mode": {
        "name": "ipython",
        "version": 3
      },
      "pygments_lexer": "ipython3",
      "nbconvert_exporter": "python",
      "file_extension": ".py"
    },
    "kaggle": {
      "accelerator": "none",
      "dataSources": [
        {
          "sourceId": 5721181,
          "sourceType": "datasetVersion",
          "datasetId": 3135864
        },
        {
          "sourceId": 7753317,
          "sourceType": "datasetVersion",
          "datasetId": 4533424
        }
      ],
      "dockerImageVersionId": 30665,
      "isInternetEnabled": true,
      "language": "python",
      "sourceType": "notebook",
      "isGpuEnabled": false
    },
    "colab": {
      "name": "ForestFireDetection",
      "provenance": [],
      "include_colab_link": true
    }
  },
  "nbformat_minor": 0,
  "nbformat": 4,
  "cells": [
    {
      "cell_type": "markdown",
      "metadata": {
        "id": "view-in-github",
        "colab_type": "text"
      },
      "source": [
        "<a href=\"https://colab.research.google.com/github/Shiyx27/ForestFireDetection/blob/main/ForestFireDetection.ipynb\" target=\"_parent\"><img src=\"https://colab.research.google.com/assets/colab-badge.svg\" alt=\"Open In Colab\"/></a>"
      ]
    },
    {
      "source": [
        "\n",
        "# IMPORTANT: RUN THIS CELL IN ORDER TO IMPORT YOUR KAGGLE DATA SOURCES\n",
        "# TO THE CORRECT LOCATION (/kaggle/input) IN YOUR NOTEBOOK,\n",
        "# THEN FEEL FREE TO DELETE THIS CELL.\n",
        "# NOTE: THIS NOTEBOOK ENVIRONMENT DIFFERS FROM KAGGLE'S PYTHON\n",
        "# ENVIRONMENT SO THERE MAY BE MISSING LIBRARIES USED BY YOUR\n",
        "# NOTEBOOK.\n",
        "\n",
        "import os\n",
        "import sys\n",
        "from tempfile import NamedTemporaryFile\n",
        "from urllib.request import urlopen\n",
        "from urllib.parse import unquote, urlparse\n",
        "from urllib.error import HTTPError\n",
        "from zipfile import ZipFile\n",
        "import tarfile\n",
        "import shutil\n",
        "\n",
        "CHUNK_SIZE = 40960\n",
        "DATA_SOURCE_MAPPING = 'forest-fire-smoke-and-non-fire-image-dataset:https%3A%2F%2Fstorage.googleapis.com%2Fkaggle-data-sets%2F3135864%2F5721181%2Fbundle%2Farchive.zip%3FX-Goog-Algorithm%3DGOOG4-RSA-SHA256%26X-Goog-Credential%3Dgcp-kaggle-com%2540kaggle-161607.iam.gserviceaccount.com%252F20240315%252Fauto%252Fstorage%252Fgoog4_request%26X-Goog-Date%3D20240315T182252Z%26X-Goog-Expires%3D259200%26X-Goog-SignedHeaders%3Dhost%26X-Goog-Signature%3D748f5a96cc50bd06fb75310df19cae641c1069a0124e8c547f1beccfe00ec972909858341c977653a46866a060b0d14021917920ac3264bac8e968b763875da15fc0b76199001309750b9ca37f40b2c47de4c5847de6c9df02e2f9eb8c47bf0064e262aebe2641b087253bc373647c1b1f38f182b1c7dcbfbf01322ce72f1db65c2ffa1eaa21c818b44117b5eccac65e202607a4e832604936d514aade9d6c57e066d54ffd984ede29975b9e376e97162653e26827a6faa5365413b515ff67e80ebe651466f1129d993baf3dd837d2bb3bce5f50be3e742d0eb83caed27a30cabcf440d406dbe8f1de897c8c541227dd840541aacdeb21c60b077301556415db,forestfire:https%3A%2F%2Fstorage.googleapis.com%2Fkaggle-data-sets%2F4533424%2F7753317%2Fbundle%2Farchive.zip%3FX-Goog-Algorithm%3DGOOG4-RSA-SHA256%26X-Goog-Credential%3Dgcp-kaggle-com%2540kaggle-161607.iam.gserviceaccount.com%252F20240315%252Fauto%252Fstorage%252Fgoog4_request%26X-Goog-Date%3D20240315T182252Z%26X-Goog-Expires%3D259200%26X-Goog-SignedHeaders%3Dhost%26X-Goog-Signature%3D13f50ef4b6f3b135210beb814bbed3b3c82bbe68d45dca28087cd49312f086e96d55e5f267bda703a07a1b0e5e9cdae2496c5441a2f40b8f46dcfb53a37701b674018cc885150e835704725c80df55fe21a5aa037bf900235cdc277f82401bbefe02a82dc3cb673080366f3efd7cfa60e82ae8749b3f9c1018e81d6c7920104381cc2e189bf2aefb8a96662f425a9748677d6071ab3813ca7955adfd4a86f82e0cba05aba048d46ddeeae40389b05d23585c85bbf74814f0e548310ebcd6c0483091da10e1f35dc1e65fa12427a4d1f669047e8669a4e099e3ca4f885c38177b723495283b7875f365563a4f510be1584fe987ed8a38b38e9a2a72a217080369'\n",
        "\n",
        "KAGGLE_INPUT_PATH='/kaggle/input'\n",
        "KAGGLE_WORKING_PATH='/kaggle/working'\n",
        "KAGGLE_SYMLINK='kaggle'\n",
        "\n",
        "!umount /kaggle/input/ 2> /dev/null\n",
        "shutil.rmtree('/kaggle/input', ignore_errors=True)\n",
        "os.makedirs(KAGGLE_INPUT_PATH, 0o777, exist_ok=True)\n",
        "os.makedirs(KAGGLE_WORKING_PATH, 0o777, exist_ok=True)\n",
        "\n",
        "try:\n",
        "  os.symlink(KAGGLE_INPUT_PATH, os.path.join(\"..\", 'input'), target_is_directory=True)\n",
        "except FileExistsError:\n",
        "  pass\n",
        "try:\n",
        "  os.symlink(KAGGLE_WORKING_PATH, os.path.join(\"..\", 'working'), target_is_directory=True)\n",
        "except FileExistsError:\n",
        "  pass\n",
        "\n",
        "for data_source_mapping in DATA_SOURCE_MAPPING.split(','):\n",
        "    directory, download_url_encoded = data_source_mapping.split(':')\n",
        "    download_url = unquote(download_url_encoded)\n",
        "    filename = urlparse(download_url).path\n",
        "    destination_path = os.path.join(KAGGLE_INPUT_PATH, directory)\n",
        "    try:\n",
        "        with urlopen(download_url) as fileres, NamedTemporaryFile() as tfile:\n",
        "            total_length = fileres.headers['content-length']\n",
        "            print(f'Downloading {directory}, {total_length} bytes compressed')\n",
        "            dl = 0\n",
        "            data = fileres.read(CHUNK_SIZE)\n",
        "            while len(data) > 0:\n",
        "                dl += len(data)\n",
        "                tfile.write(data)\n",
        "                done = int(50 * dl / int(total_length))\n",
        "                sys.stdout.write(f\"\\r[{'=' * done}{' ' * (50-done)}] {dl} bytes downloaded\")\n",
        "                sys.stdout.flush()\n",
        "                data = fileres.read(CHUNK_SIZE)\n",
        "            if filename.endswith('.zip'):\n",
        "              with ZipFile(tfile) as zfile:\n",
        "                zfile.extractall(destination_path)\n",
        "            else:\n",
        "              with tarfile.open(tfile.name) as tarfile:\n",
        "                tarfile.extractall(destination_path)\n",
        "            print(f'\\nDownloaded and uncompressed: {directory}')\n",
        "    except HTTPError as e:\n",
        "        print(f'Failed to load (likely expired) {download_url} to path {destination_path}')\n",
        "        continue\n",
        "    except OSError as e:\n",
        "        print(f'Failed to load {download_url} to path {destination_path}')\n",
        "        continue\n",
        "\n",
        "print('Data source import complete.')\n"
      ],
      "metadata": {
        "id": "gIyK8wJBZpYy"
      },
      "cell_type": "code",
      "outputs": [],
      "execution_count": null
    },
    {
      "cell_type": "code",
      "source": [
        "# This Python 3 environment comes with many helpful analytics libraries installed\n",
        "# It is defined by the kaggle/python Docker image: https://github.com/kaggle/docker-python\n",
        "# For example, here's several helpful packages to load\n",
        "\n",
        "import numpy as np # linear algebra\n",
        "import pandas as pd # data processing, CSV file I/O (e.g. pd.read_csv)\n",
        "\n",
        "# Input data files are available in the read-only \"../input/\" directory\n",
        "# For example, running this (by clicking run or pressing Shift+Enter) will list all files under the input directory\n",
        "\n",
        "import os\n",
        "for dirname, _, filenames in os.walk('/kaggle/input'):\n",
        "    for filename in filenames:\n",
        "        print(os.path.join(dirname, filename))\n",
        "\n",
        "# You can write up to 20GB to the current directory (/kaggle/working/) that gets preserved as output when you create a version using \"Save & Run All\"\n",
        "# You can also write temporary files to /kaggle/temp/, but they won't be saved outside of the current session"
      ],
      "metadata": {
        "_uuid": "8f2839f25d086af736a60e9eeb907d3b93b6e0e5",
        "_cell_guid": "b1076dfc-b9ad-4769-8c92-a6c4dae69d19",
        "trusted": true,
        "id": "6PCdeIWKZpY8"
      },
      "execution_count": null,
      "outputs": []
    },
    {
      "cell_type": "code",
      "source": [
        "import tensorflow as tf\n",
        "from tensorflow.keras.preprocessing.image import ImageDataGenerator\n",
        "from tensorflow.keras import layers, models\n",
        "from tensorflow.keras.callbacks import LearningRateScheduler\n",
        "import matplotlib.pyplot as plt\n",
        "import numpy as np"
      ],
      "metadata": {
        "trusted": true,
        "id": "9hLKc4o1ZpY-"
      },
      "execution_count": null,
      "outputs": []
    },
    {
      "cell_type": "code",
      "source": [
        "train_data_dir = '/kaggle/input/forest-fire-smoke-and-non-fire-image-dataset/FOREST_FIRE_SMOKE_AND_NON_FIRE_DATASET/train'\n",
        "test_data_dir = '/kaggle/input/forest-fire-smoke-and-non-fire-image-dataset/FOREST_FIRE_SMOKE_AND_NON_FIRE_DATASET/test'"
      ],
      "metadata": {
        "execution": {
          "iopub.status.busy": "2024-03-15T18:17:52.705642Z",
          "iopub.execute_input": "2024-03-15T18:17:52.706064Z",
          "iopub.status.idle": "2024-03-15T18:17:52.711702Z",
          "shell.execute_reply.started": "2024-03-15T18:17:52.706034Z",
          "shell.execute_reply": "2024-03-15T18:17:52.710316Z"
        },
        "trusted": true,
        "id": "OlMTOBOAZpY_"
      },
      "execution_count": null,
      "outputs": []
    },
    {
      "cell_type": "code",
      "source": [
        "# Data preprocessing with augmentation and rescaling\n",
        "train_datagen = ImageDataGenerator(\n",
        "    rescale=1./255,\n",
        "    rotation_range=20,\n",
        "    width_shift_range=0.2,\n",
        "    height_shift_range=0.2,\n",
        "    shear_range=0.2,\n",
        "    zoom_range=0.2,\n",
        "    horizontal_flip=True,\n",
        "    fill_mode='nearest'\n",
        ")\n",
        "\n",
        "test_datagen = ImageDataGenerator(rescale=1./255)\n",
        "\n",
        "batch_size = 32\n",
        "\n",
        "train_generator = train_datagen.flow_from_directory(\n",
        "    train_data_dir,\n",
        "    target_size=(224, 224),\n",
        "    batch_size=batch_size,\n",
        "    class_mode='categorical'\n",
        ")\n",
        "\n",
        "test_generator = test_datagen.flow_from_directory(\n",
        "    test_data_dir,\n",
        "    target_size=(224, 224),\n",
        "    batch_size=batch_size,\n",
        "    class_mode='categorical'\n",
        ")\n"
      ],
      "metadata": {
        "trusted": true,
        "id": "phySWBFRZpY_",
        "outputId": "dbe803e8-526c-4b56-82ed-f1629a44103a"
      },
      "execution_count": null,
      "outputs": [
        {
          "name": "stdout",
          "text": "Found 32398 images belonging to 3 classes.\nFound 10500 images belonging to 3 classes.\n",
          "output_type": "stream"
        }
      ]
    },
    {
      "cell_type": "code",
      "source": [
        "# Build a simple convolutional neural network (CNN) with MobileNetV2 base\n",
        "base_model = tf.keras.applications.MobileNetV2(input_shape=(224, 224, 3),\n",
        "                                               include_top=False,\n",
        "                                               weights='imagenet')\n",
        "base_model.trainable = False\n",
        "\n",
        "model = models.Sequential([\n",
        "    base_model,\n",
        "    layers.GlobalAveragePooling2D(),\n",
        "    layers.Dense(128, activation='relu'),\n",
        "    layers.Dense(3, activation='softmax')\n",
        "])\n"
      ],
      "metadata": {
        "execution": {
          "iopub.status.busy": "2024-03-15T18:18:04.494003Z",
          "iopub.execute_input": "2024-03-15T18:18:04.494835Z",
          "iopub.status.idle": "2024-03-15T18:18:07.042804Z",
          "shell.execute_reply.started": "2024-03-15T18:18:04.494785Z",
          "shell.execute_reply": "2024-03-15T18:18:07.041664Z"
        },
        "trusted": true,
        "id": "CVNfAmr-ZpZC",
        "outputId": "db5be70b-7ead-43cf-aac5-788bac9e5b7c"
      },
      "execution_count": null,
      "outputs": [
        {
          "name": "stdout",
          "text": "Downloading data from https://storage.googleapis.com/tensorflow/keras-applications/mobilenet_v2/mobilenet_v2_weights_tf_dim_ordering_tf_kernels_1.0_224_no_top.h5\n\u001b[1m9406464/9406464\u001b[0m \u001b[32m━━━━━━━━━━━━━━━━━━━━\u001b[0m\u001b[37m\u001b[0m \u001b[1m1s\u001b[0m 0us/step\n",
          "output_type": "stream"
        }
      ]
    },
    {
      "cell_type": "code",
      "source": [
        "# Compile the model with a learning rate scheduler\n",
        "initial_learning_rate = 0.001\n",
        "\n",
        "def scheduler(epoch, lr):\n",
        "    if epoch < 5:\n",
        "        return lr\n",
        "    else:\n",
        "        return lr * tf.math.exp(-0.1)\n",
        "\n",
        "lr_scheduler = LearningRateScheduler(scheduler)\n",
        "\n",
        "model.compile(optimizer=tf.keras.optimizers.Adam(learning_rate=initial_learning_rate),\n",
        "              loss='categorical_crossentropy',\n",
        "              metrics=['accuracy'])"
      ],
      "metadata": {
        "execution": {
          "iopub.status.busy": "2024-03-15T18:18:22.683506Z",
          "iopub.execute_input": "2024-03-15T18:18:22.684193Z",
          "iopub.status.idle": "2024-03-15T18:18:22.6979Z",
          "shell.execute_reply.started": "2024-03-15T18:18:22.684158Z",
          "shell.execute_reply": "2024-03-15T18:18:22.696586Z"
        },
        "trusted": true,
        "id": "DMgE4vz2ZpZD"
      },
      "execution_count": null,
      "outputs": []
    },
    {
      "cell_type": "code",
      "source": [
        "# Train the model\n",
        "epochs = 5\n",
        "history = model.fit(train_generator,\n",
        "                    epochs=epochs,\n",
        "                    validation_data=test_generator,\n",
        "                    callbacks=[lr_scheduler])\n",
        "\n",
        "# Evaluate the model on the test set\n",
        "evaluation_result = model.evaluate(test_generator)\n",
        "print(f'Test Loss: {evaluation_result[0]}, Test Accuracy: {evaluation_result[1]}')\n"
      ],
      "metadata": {
        "execution": {
          "iopub.status.busy": "2024-03-15T18:18:25.902777Z",
          "iopub.execute_input": "2024-03-15T18:18:25.903151Z"
        },
        "trusted": true,
        "id": "V4EC079bZpZE",
        "outputId": "50411d4a-e417-461a-b2c1-c9be9ecd1300"
      },
      "execution_count": null,
      "outputs": [
        {
          "name": "stdout",
          "text": "Epoch 1/5\n",
          "output_type": "stream"
        },
        {
          "name": "stderr",
          "text": "/opt/conda/lib/python3.10/site-packages/keras/src/trainers/data_adapters/py_dataset_adapter.py:122: UserWarning: Your `PyDataset` class should call `super().__init__(**kwargs)` in its constructor. `**kwargs` can include `workers`, `use_multiprocessing`, `max_queue_size`. Do not pass these arguments to `fit()`, as they will be ignored.\n  self._warn_if_super_not_called()\n",
          "output_type": "stream"
        },
        {
          "name": "stdout",
          "text": "\u001b[1m 176/1013\u001b[0m \u001b[32m━━━\u001b[0m\u001b[37m━━━━━━━━━━━━━━━━━\u001b[0m \u001b[1m17:44\u001b[0m 1s/step - accuracy: 0.8453 - loss: 0.3761",
          "output_type": "stream"
        }
      ]
    },
    {
      "cell_type": "code",
      "source": [
        "# Evaluate the model on the test set\n",
        "evaluation_result = model.evaluate(test_generator)\n",
        "print(f'Test Loss: {evaluation_result[0]}, Test Accuracy: {evaluation_result[1]}')"
      ],
      "metadata": {
        "trusted": true,
        "id": "Q9tyvlbSZpZF"
      },
      "execution_count": null,
      "outputs": []
    },
    {
      "cell_type": "code",
      "source": [
        "from tensorflow.keras.preprocessing import image\n",
        "from tensorflow.keras.applications.mobilenet_v2 import preprocess_input\n",
        "import numpy as np\n",
        "\n",
        "# Load and preprocess the user-provided image\n",
        "user_image_path = '/path/to/user/image.jpg'  # Replace with the path to the user's image\n",
        "user_image = image.load_img(user_image_path, target_size=(224, 224))\n",
        "user_image_array = image.img_to_array(user_image)\n",
        "user_image_array = np.expand_dims(user_image_array, axis=0)\n",
        "user_image_array = preprocess_input(user_image_array)\n",
        "\n",
        "# Make predictions\n",
        "predictions = model.predict(user_image_array)\n",
        "\n",
        "# Get the predicted class label\n",
        "predicted_class = np.argmax(predictions)\n",
        "predicted_label = list(train_generator.class_indices.keys())[predicted_class]\n",
        "\n",
        "# Display the results\n",
        "plt.imshow(user_image)\n",
        "plt.title(f'Predicted Class: {predicted_label}')\n",
        "plt.show()"
      ],
      "metadata": {
        "id": "tmJPCP8pZpZG"
      },
      "execution_count": null,
      "outputs": []
    }
  ]
}